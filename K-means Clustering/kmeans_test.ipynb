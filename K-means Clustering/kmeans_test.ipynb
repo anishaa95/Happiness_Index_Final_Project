{
 "cells": [
  {
   "cell_type": "code",
   "execution_count": 1,
   "metadata": {},
   "outputs": [],
   "source": [
    "%matplotlib inline\n",
    "import matplotlib.pyplot as plt\n",
    "import numpy as np"
   ]
  },
  {
   "cell_type": "code",
   "execution_count": 2,
   "metadata": {},
   "outputs": [],
   "source": [
    "import pandas as pd"
   ]
  },
  {
   "cell_type": "code",
   "execution_count": 3,
   "metadata": {},
   "outputs": [],
   "source": [
    "dataset= pd.read_csv('../Final_Project_SQL/2019_Happiness_Report.csv')"
   ]
  },
  {
   "cell_type": "code",
   "execution_count": 4,
   "metadata": {},
   "outputs": [
    {
     "name": "stdout",
     "output_type": "stream",
     "text": [
      "     Overall rank         Country or region  Score  GDP per capita  \\\n",
      "0               1                   Finland  7.769           1.340   \n",
      "1               2                   Denmark  7.600           1.383   \n",
      "2               3                    Norway  7.554           1.488   \n",
      "3               4                   Iceland  7.494           1.380   \n",
      "4               5               Netherlands  7.488           1.396   \n",
      "..            ...                       ...    ...             ...   \n",
      "151           152                    Rwanda  3.334           0.359   \n",
      "152           153                  Tanzania  3.231           0.476   \n",
      "153           154               Afghanistan  3.203           0.350   \n",
      "154           155  Central African Republic  3.083           0.026   \n",
      "155           156               South Sudan  2.853           0.306   \n",
      "\n",
      "     Social support  Healthy life expectancy  Freedom to make life choices  \\\n",
      "0             1.587                    0.986                         0.596   \n",
      "1             1.573                    0.996                         0.592   \n",
      "2             1.582                    1.028                         0.603   \n",
      "3             1.624                    1.026                         0.591   \n",
      "4             1.522                    0.999                         0.557   \n",
      "..              ...                      ...                           ...   \n",
      "151           0.711                    0.614                         0.555   \n",
      "152           0.885                    0.499                         0.417   \n",
      "153           0.517                    0.361                         0.000   \n",
      "154           0.000                    0.105                         0.225   \n",
      "155           0.575                    0.295                         0.010   \n",
      "\n",
      "     Generosity  Perceptions of corruption  \n",
      "0         0.153                      0.393  \n",
      "1         0.252                      0.410  \n",
      "2         0.271                      0.341  \n",
      "3         0.354                      0.118  \n",
      "4         0.322                      0.298  \n",
      "..          ...                        ...  \n",
      "151       0.217                      0.411  \n",
      "152       0.276                      0.147  \n",
      "153       0.158                      0.025  \n",
      "154       0.235                      0.035  \n",
      "155       0.202                      0.091  \n",
      "\n",
      "[156 rows x 9 columns]\n"
     ]
    }
   ],
   "source": [
    "print(dataset)"
   ]
  },
  {
   "cell_type": "code",
   "execution_count": 5,
   "metadata": {},
   "outputs": [],
   "source": [
    "# X=dataset.iloc[:, [2,8]].values\n",
    "X=dataset.iloc[:, [3,4,5,6,7,8]].values"
   ]
  },
  {
   "cell_type": "code",
   "execution_count": 6,
   "metadata": {},
   "outputs": [
    {
     "name": "stdout",
     "output_type": "stream",
     "text": [
      "[[1.34  1.587 0.986 0.596 0.153 0.393]\n",
      " [1.383 1.573 0.996 0.592 0.252 0.41 ]\n",
      " [1.488 1.582 1.028 0.603 0.271 0.341]\n",
      " [1.38  1.624 1.026 0.591 0.354 0.118]\n",
      " [1.396 1.522 0.999 0.557 0.322 0.298]\n",
      " [1.452 1.526 1.052 0.572 0.263 0.343]\n",
      " [1.387 1.487 1.009 0.574 0.267 0.373]\n",
      " [1.303 1.557 1.026 0.585 0.33  0.38 ]\n",
      " [1.365 1.505 1.039 0.584 0.285 0.308]\n",
      " [1.376 1.475 1.016 0.532 0.244 0.226]\n",
      " [1.372 1.548 1.036 0.557 0.332 0.29 ]\n",
      " [1.034 1.441 0.963 0.558 0.144 0.093]\n",
      " [1.276 1.455 1.029 0.371 0.261 0.082]\n",
      " [1.609 1.479 1.012 0.526 0.194 0.316]\n",
      " [1.333 1.538 0.996 0.45  0.348 0.278]\n",
      " [1.499 1.553 0.999 0.516 0.298 0.31 ]\n",
      " [1.373 1.454 0.987 0.495 0.261 0.265]\n",
      " [1.356 1.504 0.986 0.473 0.16  0.21 ]\n",
      " [1.433 1.457 0.874 0.454 0.28  0.128]\n",
      " [1.269 1.487 0.92  0.457 0.046 0.036]\n",
      " [1.503 1.31  0.825 0.598 0.262 0.182]\n",
      " [1.3   1.52  0.999 0.564 0.375 0.151]\n",
      " [1.07  1.323 0.861 0.433 0.074 0.073]\n",
      " [1.324 1.472 1.045 0.436 0.111 0.183]\n",
      " [1.368 1.43  0.914 0.351 0.242 0.097]\n",
      " [1.159 1.369 0.92  0.357 0.187 0.056]\n",
      " [0.8   1.269 0.746 0.535 0.175 0.078]\n",
      " [1.403 1.357 0.795 0.439 0.08  0.132]\n",
      " [1.684 1.313 0.871 0.555 0.22  0.167]\n",
      " [1.286 1.484 1.062 0.362 0.153 0.079]\n",
      " [1.149 1.442 0.91  0.516 0.109 0.054]\n",
      " [1.004 1.439 0.802 0.39  0.099 0.086]\n",
      " [1.124 1.465 0.891 0.523 0.127 0.15 ]\n",
      " [1.572 1.463 1.141 0.556 0.271 0.453]\n",
      " [0.794 1.242 0.789 0.43  0.093 0.074]\n",
      " [1.294 1.488 1.039 0.231 0.158 0.03 ]\n",
      " [1.362 1.368 0.871 0.536 0.255 0.11 ]\n",
      " [1.246 1.504 0.881 0.334 0.121 0.014]\n",
      " [1.231 1.477 0.713 0.489 0.185 0.016]\n",
      " [1.206 1.438 0.884 0.483 0.117 0.05 ]\n",
      " [0.745 1.529 0.756 0.631 0.322 0.24 ]\n",
      " [1.238 1.515 0.818 0.291 0.043 0.042]\n",
      " [0.985 1.41  0.841 0.47  0.099 0.034]\n",
      " [1.258 1.523 0.953 0.564 0.144 0.057]\n",
      " [0.694 1.325 0.835 0.435 0.2   0.127]\n",
      " [0.882 1.232 0.758 0.489 0.262 0.006]\n",
      " [1.092 1.432 0.881 0.471 0.066 0.05 ]\n",
      " [1.162 1.232 0.825 0.462 0.083 0.005]\n",
      " [1.263 1.223 1.042 0.406 0.19  0.041]\n",
      " [0.912 1.312 0.868 0.498 0.126 0.087]\n",
      " [1.05  1.409 0.828 0.557 0.359 0.028]\n",
      " [1.05  1.409 0.828 0.557 0.359 0.028]\n",
      " [1.187 1.465 0.812 0.264 0.075 0.064]\n",
      " [1.301 1.219 1.036 0.159 0.175 0.056]\n",
      " [1.237 1.528 0.874 0.495 0.103 0.161]\n",
      " [0.831 1.478 0.831 0.49  0.107 0.028]\n",
      " [1.12  1.402 0.798 0.498 0.215 0.06 ]\n",
      " [1.327 1.419 1.088 0.445 0.069 0.14 ]\n",
      " [0.642 1.236 0.828 0.507 0.246 0.078]\n",
      " [1.173 1.508 0.729 0.41  0.146 0.096]\n",
      " [0.776 1.209 0.706 0.511 0.137 0.064]\n",
      " [1.201 1.41  0.828 0.199 0.081 0.02 ]\n",
      " [0.855 1.475 0.777 0.514 0.184 0.08 ]\n",
      " [1.263 1.252 1.042 0.417 0.191 0.162]\n",
      " [0.96  1.274 0.854 0.455 0.083 0.027]\n",
      " [1.221 1.431 0.999 0.508 0.047 0.025]\n",
      " [0.677 0.886 0.535 0.313 0.22  0.098]\n",
      " [1.183 1.452 0.726 0.334 0.082 0.031]\n",
      " [0.807 1.293 0.657 0.558 0.117 0.107]\n",
      " [1.004 1.383 0.854 0.282 0.137 0.039]\n",
      " [0.685 1.328 0.739 0.245 0.181 0.   ]\n",
      " [1.044 1.303 0.673 0.416 0.133 0.152]\n",
      " [1.051 1.361 0.871 0.197 0.142 0.08 ]\n",
      " [0.493 1.098 0.718 0.389 0.23  0.144]\n",
      " [1.155 1.266 0.914 0.296 0.119 0.022]\n",
      " [1.438 1.277 1.122 0.44  0.258 0.287]\n",
      " [1.015 1.401 0.779 0.497 0.113 0.101]\n",
      " [0.945 1.212 0.845 0.212 0.263 0.006]\n",
      " [1.183 1.36  0.808 0.195 0.083 0.106]\n",
      " [1.221 1.171 0.828 0.508 0.26  0.024]\n",
      " [1.067 1.465 0.789 0.235 0.094 0.142]\n",
      " [1.181 1.156 0.999 0.067 0.    0.034]\n",
      " [0.948 1.531 0.667 0.317 0.235 0.038]\n",
      " [0.983 1.294 0.838 0.345 0.185 0.034]\n",
      " [0.696 1.111 0.245 0.426 0.215 0.041]\n",
      " [0.551 1.438 0.723 0.508 0.3   0.023]\n",
      " [1.052 1.538 0.657 0.394 0.244 0.028]\n",
      " [1.002 1.16  0.785 0.086 0.073 0.114]\n",
      " [0.801 0.782 0.782 0.418 0.036 0.076]\n",
      " [1.043 1.147 0.769 0.351 0.035 0.182]\n",
      " [0.987 1.224 0.815 0.216 0.166 0.027]\n",
      " [0.931 1.203 0.66  0.491 0.498 0.028]\n",
      " [1.029 1.125 0.893 0.521 0.058 0.1  ]\n",
      " [0.741 1.346 0.851 0.543 0.147 0.073]\n",
      " [0.813 1.321 0.604 0.457 0.37  0.167]\n",
      " [0.549 0.91  0.331 0.381 0.187 0.037]\n",
      " [1.092 1.513 0.815 0.311 0.081 0.004]\n",
      " [0.611 0.868 0.486 0.381 0.245 0.04 ]\n",
      " [0.569 0.808 0.232 0.352 0.154 0.09 ]\n",
      " [0.446 1.226 0.677 0.439 0.285 0.089]\n",
      " [0.837 1.225 0.815 0.383 0.11  0.13 ]\n",
      " [0.393 0.437 0.397 0.349 0.175 0.082]\n",
      " [0.673 0.799 0.508 0.372 0.105 0.093]\n",
      " [1.057 1.183 0.571 0.295 0.043 0.055]\n",
      " [0.764 1.03  0.551 0.547 0.266 0.164]\n",
      " [0.96  1.351 0.469 0.389 0.13  0.055]\n",
      " [0.947 0.848 0.874 0.383 0.178 0.027]\n",
      " [0.96  1.427 0.805 0.154 0.064 0.047]\n",
      " [0.574 1.122 0.637 0.609 0.232 0.062]\n",
      " [0.657 1.247 0.672 0.225 0.103 0.066]\n",
      " [0.45  1.134 0.571 0.292 0.153 0.072]\n",
      " [0.    0.698 0.268 0.559 0.243 0.27 ]\n",
      " [0.879 1.313 0.477 0.401 0.07  0.056]\n",
      " [0.138 0.774 0.366 0.318 0.188 0.102]\n",
      " [0.331 1.056 0.38  0.255 0.177 0.113]\n",
      " [0.85  1.055 0.815 0.283 0.095 0.064]\n",
      " [1.1   0.842 0.785 0.305 0.27  0.125]\n",
      " [0.38  0.829 0.375 0.332 0.207 0.086]\n",
      " [0.886 0.666 0.752 0.346 0.043 0.164]\n",
      " [0.308 0.939 0.428 0.382 0.269 0.167]\n",
      " [0.512 0.983 0.581 0.431 0.372 0.053]\n",
      " [0.57  1.167 0.489 0.066 0.106 0.088]\n",
      " [0.204 0.986 0.39  0.494 0.197 0.138]\n",
      " [0.921 1.    0.815 0.167 0.059 0.055]\n",
      " [0.562 0.928 0.723 0.527 0.166 0.143]\n",
      " [1.043 0.98  0.574 0.241 0.148 0.089]\n",
      " [0.094 1.125 0.357 0.269 0.212 0.053]\n",
      " [0.385 1.105 0.308 0.327 0.153 0.052]\n",
      " [0.268 0.841 0.242 0.309 0.252 0.045]\n",
      " [0.949 1.265 0.831 0.47  0.244 0.047]\n",
      " [0.71  1.181 0.555 0.525 0.566 0.172]\n",
      " [0.35  0.766 0.192 0.174 0.198 0.078]\n",
      " [0.82  1.39  0.739 0.178 0.187 0.01 ]\n",
      " [0.336 1.033 0.532 0.344 0.209 0.1  ]\n",
      " [0.811 1.149 0.    0.313 0.074 0.135]\n",
      " [0.332 1.069 0.443 0.356 0.252 0.06 ]\n",
      " [0.913 1.039 0.644 0.241 0.076 0.067]\n",
      " [0.578 1.058 0.426 0.431 0.247 0.087]\n",
      " [0.275 0.572 0.41  0.293 0.177 0.085]\n",
      " [0.755 0.765 0.588 0.498 0.2   0.085]\n",
      " [0.073 0.922 0.443 0.37  0.233 0.033]\n",
      " [0.274 0.757 0.505 0.142 0.275 0.078]\n",
      " [0.274 0.916 0.555 0.148 0.169 0.041]\n",
      " [0.489 1.169 0.168 0.359 0.107 0.093]\n",
      " [0.046 0.447 0.38  0.22  0.176 0.18 ]\n",
      " [0.366 1.114 0.433 0.361 0.151 0.089]\n",
      " [0.323 0.688 0.449 0.026 0.419 0.11 ]\n",
      " [1.041 1.145 0.538 0.455 0.025 0.1  ]\n",
      " [0.619 0.378 0.44  0.013 0.331 0.141]\n",
      " [0.191 0.56  0.495 0.443 0.218 0.089]\n",
      " [0.287 1.163 0.463 0.143 0.108 0.077]\n",
      " [0.359 0.711 0.614 0.555 0.217 0.411]\n",
      " [0.476 0.885 0.499 0.417 0.276 0.147]\n",
      " [0.35  0.517 0.361 0.    0.158 0.025]\n",
      " [0.026 0.    0.105 0.225 0.235 0.035]\n",
      " [0.306 0.575 0.295 0.01  0.202 0.091]]\n"
     ]
    }
   ],
   "source": [
    "print(X)"
   ]
  },
  {
   "cell_type": "code",
   "execution_count": 7,
   "metadata": {},
   "outputs": [],
   "source": [
    "from sklearn.cluster import KMeans\n",
    "wcss= []"
   ]
  },
  {
   "cell_type": "code",
   "execution_count": 8,
   "metadata": {},
   "outputs": [
    {
     "data": {
      "image/png": "[encoded data removed]",
      "text/plain": [
       "<Figure size 720x576 with 1 Axes>"
      ]
     },
     "metadata": {
      "needs_background": "light"
     },
     "output_type": "display_data"
    }
   ],
   "source": [
    "fig = plt.figure(figsize=(10, 8))\n",
    "WCSS = []\n",
    "for i in range(1, 11):\n",
    "    clf = KMeans(n_clusters=i, init='k-means++', max_iter=300, n_init=10, random_state=0)\n",
    "    clf.fit(X)\n",
    "    WCSS.append(clf.inertia_) # inertia is another name for WCSS\n",
    "\n",
    "plt.plot(range(1, 11), WCSS)\n",
    "plt.title('The Elbow Method')\n",
    "plt.ylabel('WCSS')\n",
    "plt.xlabel('Number of Clusters')\n",
    "plt.show()"
   ]
  },
  {
   "cell_type": "code",
   "execution_count": 9,
   "metadata": {},
   "outputs": [],
   "source": [
    "# plt.scatter(X[:, 0], X[:, 1], c=predicted_clusters, s=50, cmap='viridis')\n",
    "plt.show()"
   ]
  },
  {
   "cell_type": "code",
   "execution_count": 10,
   "metadata": {},
   "outputs": [],
   "source": [
    "clf = KMeans(n_clusters=3, init='k-means++', max_iter=300, n_init=10,  random_state=0)\n",
    "y_kmeans = clf.fit_predict(X)\n"
   ]
  },
  {
   "cell_type": "code",
   "execution_count": 11,
   "metadata": {},
   "outputs": [
    {
     "data": {
      "image/png": "[encoded data removed]",
      "text/plain": [
       "<Figure size 720x576 with 1 Axes>"
      ]
     },
     "metadata": {
      "needs_background": "light"
     },
     "output_type": "display_data"
    }
   ],
   "source": [
    "fig = plt.figure(figsize=(10, 8))\n",
    "plt.scatter(X[y_kmeans == 0, 0], X[y_kmeans == 0, 1], color='red', s=60, label='Least Happy', edgecolors='black')\n",
    "plt.scatter(X[y_kmeans == 1, 0], X[y_kmeans == 1, 1], color='green', s=60, label='Less Happy', edgecolors='black')\n",
    "plt.scatter(X[y_kmeans == 2, 0], X[y_kmeans == 2, 1], color='blue',s=60, label='Happy', edgecolors='black')\n",
    "plt.scatter(X[y_kmeans == 3, 0], X[y_kmeans == 3, 1], color='yellow', s=60, label='Very Happy', edgecolors='black')\n",
    "# plt.scatter(X[y_kmeans == 4, 0], X[y_kmeans == 4, 1], color='cyan', s=60, label='Cluster 5', edgecolors='black')\n",
    "# cluster centres\n",
    "plt.scatter(clf.cluster_centers_[:, 0], clf.cluster_centers_[:, 1], color='magenta', s=100, label='Centroid',edgecolors='black')\n",
    "plt.legend()\n",
    "plt.title('Clusters using KMeans')\n",
    "plt.ylabel('GDP per Capita')\n",
    "plt.xlabel('Social Support')\n",
    "plt.show()"
   ]
  },
  {
   "cell_type": "code",
   "execution_count": 12,
   "metadata": {},
   "outputs": [
    {
     "data": {
      "text/plain": [
       "KMeans(algorithm='auto', copy_x=True, init='k-means++', max_iter=300,\n",
       "       n_clusters=3, n_init=10, n_jobs=None, precompute_distances='auto',\n",
       "       random_state=0, tol=0.0001, verbose=0)"
      ]
     },
     "execution_count": 12,
     "metadata": {},
     "output_type": "execute_result"
    }
   ],
   "source": [
    "clf"
   ]
  },
  {
   "cell_type": "code",
   "execution_count": 13,
   "metadata": {},
   "outputs": [
    {
     "data": {
      "text/plain": [
       "array([[0.94370149, 1.2691791 , 0.76529851, 0.38732836, 0.15895522,\n",
       "        0.07049254],\n",
       "       [0.39102273, 0.86186364, 0.41825   , 0.31372727, 0.20779545,\n",
       "        0.09922727],\n",
       "       [1.34044444, 1.46017778, 0.96622222, 0.47888889, 0.20577778,\n",
       "        0.17991111]])"
      ]
     },
     "execution_count": 13,
     "metadata": {},
     "output_type": "execute_result"
    }
   ],
   "source": [
    "clf.cluster_centers_"
   ]
  },
  {
   "cell_type": "code",
   "execution_count": 14,
   "metadata": {},
   "outputs": [
    {
     "name": "stdout",
     "output_type": "stream",
     "text": [
      "[2 2 2 2 2 2 2 2 2 2 2 0 2 2 2 2 2 2 2 2 2 2 0 2 2 2 0 2 2 2 2 0 2 2 0 2 2\n",
      " 2 2 2 0 2 0 2 0 0 0 0 2 0 0 0 0 2 2 0 0 2 0 2 0 0 0 2 0 2 1 0 0 0 0 0 0 1\n",
      " 0 2 0 0 0 0 0 0 0 0 1 0 0 0 0 0 0 0 0 0 0 1 0 1 1 1 0 1 1 0 0 0 0 0 0 0 1\n",
      " 1 0 1 1 0 0 1 0 1 1 1 1 0 1 0 1 1 1 0 0 1 0 1 1 1 0 1 1 1 1 1 1 1 1 1 1 0\n",
      " 1 1 1 1 1 1 1 1]\n"
     ]
    }
   ],
   "source": [
    "print(y_kmeans)"
   ]
  },
  {
   "cell_type": "code",
   "execution_count": 15,
   "metadata": {},
   "outputs": [],
   "source": [
    "kmean_df = pd.DataFrame(y_kmeans)"
   ]
  },
  {
   "cell_type": "code",
   "execution_count": 16,
   "metadata": {},
   "outputs": [
    {
     "data": {
      "text/html": [
       "<div>\n",
       "<style scoped>\n",
       "    .dataframe tbody tr th:only-of-type {\n",
       "        vertical-align: middle;\n",
       "    }\n",
       "\n",
       "    .dataframe tbody tr th {\n",
       "        vertical-align: top;\n",
       "    }\n",
       "\n",
       "    .dataframe thead th {\n",
       "        text-align: right;\n",
       "    }\n",
       "</style>\n",
       "<table border=\"1\" class=\"dataframe\">\n",
       "  <thead>\n",
       "    <tr style=\"text-align: right;\">\n",
       "      <th></th>\n",
       "      <th>0</th>\n",
       "    </tr>\n",
       "  </thead>\n",
       "  <tbody>\n",
       "    <tr>\n",
       "      <th>0</th>\n",
       "      <td>2</td>\n",
       "    </tr>\n",
       "    <tr>\n",
       "      <th>1</th>\n",
       "      <td>2</td>\n",
       "    </tr>\n",
       "    <tr>\n",
       "      <th>2</th>\n",
       "      <td>2</td>\n",
       "    </tr>\n",
       "    <tr>\n",
       "      <th>3</th>\n",
       "      <td>2</td>\n",
       "    </tr>\n",
       "    <tr>\n",
       "      <th>4</th>\n",
       "      <td>2</td>\n",
       "    </tr>\n",
       "    <tr>\n",
       "      <th>...</th>\n",
       "      <td>...</td>\n",
       "    </tr>\n",
       "    <tr>\n",
       "      <th>151</th>\n",
       "      <td>1</td>\n",
       "    </tr>\n",
       "    <tr>\n",
       "      <th>152</th>\n",
       "      <td>1</td>\n",
       "    </tr>\n",
       "    <tr>\n",
       "      <th>153</th>\n",
       "      <td>1</td>\n",
       "    </tr>\n",
       "    <tr>\n",
       "      <th>154</th>\n",
       "      <td>1</td>\n",
       "    </tr>\n",
       "    <tr>\n",
       "      <th>155</th>\n",
       "      <td>1</td>\n",
       "    </tr>\n",
       "  </tbody>\n",
       "</table>\n",
       "<p>156 rows × 1 columns</p>\n",
       "</div>"
      ],
      "text/plain": [
       "     0\n",
       "0    2\n",
       "1    2\n",
       "2    2\n",
       "3    2\n",
       "4    2\n",
       "..  ..\n",
       "151  1\n",
       "152  1\n",
       "153  1\n",
       "154  1\n",
       "155  1\n",
       "\n",
       "[156 rows x 1 columns]"
      ]
     },
     "execution_count": 16,
     "metadata": {},
     "output_type": "execute_result"
    }
   ],
   "source": [
    "kmean_df"
   ]
  },
  {
   "cell_type": "code",
   "execution_count": 17,
   "metadata": {},
   "outputs": [],
   "source": [
    "kmean_df = kmean_df.rename(columns={0:'Cluster'})"
   ]
  },
  {
   "cell_type": "code",
   "execution_count": 18,
   "metadata": {},
   "outputs": [],
   "source": [
    "kmean_df['Cluster'].replace(2,'High Happy Score', inplace=True)\n",
    "kmean_df['Cluster'].replace(1,'Least Happy Score', inplace=True)\n",
    "kmean_df['Cluster'].replace(0,'Moderate Happy Score', inplace=True)"
   ]
  },
  {
   "cell_type": "code",
   "execution_count": 19,
   "metadata": {},
   "outputs": [
    {
     "data": {
      "text/html": [
       "<div>\n",
       "<style scoped>\n",
       "    .dataframe tbody tr th:only-of-type {\n",
       "        vertical-align: middle;\n",
       "    }\n",
       "\n",
       "    .dataframe tbody tr th {\n",
       "        vertical-align: top;\n",
       "    }\n",
       "\n",
       "    .dataframe thead th {\n",
       "        text-align: right;\n",
       "    }\n",
       "</style>\n",
       "<table border=\"1\" class=\"dataframe\">\n",
       "  <thead>\n",
       "    <tr style=\"text-align: right;\">\n",
       "      <th></th>\n",
       "      <th>Cluster</th>\n",
       "    </tr>\n",
       "  </thead>\n",
       "  <tbody>\n",
       "    <tr>\n",
       "      <th>0</th>\n",
       "      <td>High Happy Score</td>\n",
       "    </tr>\n",
       "    <tr>\n",
       "      <th>1</th>\n",
       "      <td>High Happy Score</td>\n",
       "    </tr>\n",
       "    <tr>\n",
       "      <th>2</th>\n",
       "      <td>High Happy Score</td>\n",
       "    </tr>\n",
       "    <tr>\n",
       "      <th>3</th>\n",
       "      <td>High Happy Score</td>\n",
       "    </tr>\n",
       "    <tr>\n",
       "      <th>4</th>\n",
       "      <td>High Happy Score</td>\n",
       "    </tr>\n",
       "    <tr>\n",
       "      <th>...</th>\n",
       "      <td>...</td>\n",
       "    </tr>\n",
       "    <tr>\n",
       "      <th>151</th>\n",
       "      <td>Least Happy Score</td>\n",
       "    </tr>\n",
       "    <tr>\n",
       "      <th>152</th>\n",
       "      <td>Least Happy Score</td>\n",
       "    </tr>\n",
       "    <tr>\n",
       "      <th>153</th>\n",
       "      <td>Least Happy Score</td>\n",
       "    </tr>\n",
       "    <tr>\n",
       "      <th>154</th>\n",
       "      <td>Least Happy Score</td>\n",
       "    </tr>\n",
       "    <tr>\n",
       "      <th>155</th>\n",
       "      <td>Least Happy Score</td>\n",
       "    </tr>\n",
       "  </tbody>\n",
       "</table>\n",
       "<p>156 rows × 1 columns</p>\n",
       "</div>"
      ],
      "text/plain": [
       "               Cluster\n",
       "0     High Happy Score\n",
       "1     High Happy Score\n",
       "2     High Happy Score\n",
       "3     High Happy Score\n",
       "4     High Happy Score\n",
       "..                 ...\n",
       "151  Least Happy Score\n",
       "152  Least Happy Score\n",
       "153  Least Happy Score\n",
       "154  Least Happy Score\n",
       "155  Least Happy Score\n",
       "\n",
       "[156 rows x 1 columns]"
      ]
     },
     "execution_count": 19,
     "metadata": {},
     "output_type": "execute_result"
    }
   ],
   "source": [
    "kmean_df"
   ]
  },
  {
   "cell_type": "code",
   "execution_count": 20,
   "metadata": {},
   "outputs": [
    {
     "data": {
      "text/plain": [
       "Index(['Overall rank', 'Country or region', 'Score', 'GDP per capita',\n",
       "       'Social support', 'Healthy life expectancy',\n",
       "       'Freedom to make life choices', 'Generosity',\n",
       "       'Perceptions of corruption'],\n",
       "      dtype='object')"
      ]
     },
     "execution_count": 20,
     "metadata": {},
     "output_type": "execute_result"
    }
   ],
   "source": [
    "dataset.keys()"
   ]
  },
  {
   "cell_type": "code",
   "execution_count": 21,
   "metadata": {},
   "outputs": [],
   "source": [
    "original_df = pd.DataFrame({'Overall Rank':dataset['Overall rank'],\n",
    "                            'Country or Region':dataset['Country or region'],\n",
    "                            'Score':dataset['Score'], \n",
    "                            'GDP per capita':dataset['GDP per capita'],\n",
    "                            'Social support':dataset['Social support'],\n",
    "                            'Healthy life expectancy':dataset['Healthy life expectancy'],\n",
    "                            'Freedom to make life choices':dataset['Freedom to make life choices'],\n",
    "                            'Generosity':dataset['Generosity'],\n",
    "                            'Perceptions of corruption':dataset['Perceptions of corruption'],\n",
    "                            'Cluster':kmean_df['Cluster']\n",
    "                           })"
   ]
  },
  {
   "cell_type": "code",
   "execution_count": 22,
   "metadata": {},
   "outputs": [
    {
     "data": {
      "text/html": [
       "<div>\n",
       "<style scoped>\n",
       "    .dataframe tbody tr th:only-of-type {\n",
       "        vertical-align: middle;\n",
       "    }\n",
       "\n",
       "    .dataframe tbody tr th {\n",
       "        vertical-align: top;\n",
       "    }\n",
       "\n",
       "    .dataframe thead th {\n",
       "        text-align: right;\n",
       "    }\n",
       "</style>\n",
       "<table border=\"1\" class=\"dataframe\">\n",
       "  <thead>\n",
       "    <tr style=\"text-align: right;\">\n",
       "      <th></th>\n",
       "      <th>Overall Rank</th>\n",
       "      <th>Country or Region</th>\n",
       "      <th>Score</th>\n",
       "      <th>GDP per capita</th>\n",
       "      <th>Social support</th>\n",
       "      <th>Healthy life expectancy</th>\n",
       "      <th>Freedom to make life choices</th>\n",
       "      <th>Generosity</th>\n",
       "      <th>Perceptions of corruption</th>\n",
       "      <th>Cluster</th>\n",
       "    </tr>\n",
       "  </thead>\n",
       "  <tbody>\n",
       "    <tr>\n",
       "      <th>0</th>\n",
       "      <td>1</td>\n",
       "      <td>Finland</td>\n",
       "      <td>7.769</td>\n",
       "      <td>1.340</td>\n",
       "      <td>1.587</td>\n",
       "      <td>0.986</td>\n",
       "      <td>0.596</td>\n",
       "      <td>0.153</td>\n",
       "      <td>0.393</td>\n",
       "      <td>High Happy Score</td>\n",
       "    </tr>\n",
       "    <tr>\n",
       "      <th>1</th>\n",
       "      <td>2</td>\n",
       "      <td>Denmark</td>\n",
       "      <td>7.600</td>\n",
       "      <td>1.383</td>\n",
       "      <td>1.573</td>\n",
       "      <td>0.996</td>\n",
       "      <td>0.592</td>\n",
       "      <td>0.252</td>\n",
       "      <td>0.410</td>\n",
       "      <td>High Happy Score</td>\n",
       "    </tr>\n",
       "    <tr>\n",
       "      <th>2</th>\n",
       "      <td>3</td>\n",
       "      <td>Norway</td>\n",
       "      <td>7.554</td>\n",
       "      <td>1.488</td>\n",
       "      <td>1.582</td>\n",
       "      <td>1.028</td>\n",
       "      <td>0.603</td>\n",
       "      <td>0.271</td>\n",
       "      <td>0.341</td>\n",
       "      <td>High Happy Score</td>\n",
       "    </tr>\n",
       "    <tr>\n",
       "      <th>3</th>\n",
       "      <td>4</td>\n",
       "      <td>Iceland</td>\n",
       "      <td>7.494</td>\n",
       "      <td>1.380</td>\n",
       "      <td>1.624</td>\n",
       "      <td>1.026</td>\n",
       "      <td>0.591</td>\n",
       "      <td>0.354</td>\n",
       "      <td>0.118</td>\n",
       "      <td>High Happy Score</td>\n",
       "    </tr>\n",
       "    <tr>\n",
       "      <th>4</th>\n",
       "      <td>5</td>\n",
       "      <td>Netherlands</td>\n",
       "      <td>7.488</td>\n",
       "      <td>1.396</td>\n",
       "      <td>1.522</td>\n",
       "      <td>0.999</td>\n",
       "      <td>0.557</td>\n",
       "      <td>0.322</td>\n",
       "      <td>0.298</td>\n",
       "      <td>High Happy Score</td>\n",
       "    </tr>\n",
       "    <tr>\n",
       "      <th>...</th>\n",
       "      <td>...</td>\n",
       "      <td>...</td>\n",
       "      <td>...</td>\n",
       "      <td>...</td>\n",
       "      <td>...</td>\n",
       "      <td>...</td>\n",
       "      <td>...</td>\n",
       "      <td>...</td>\n",
       "      <td>...</td>\n",
       "      <td>...</td>\n",
       "    </tr>\n",
       "    <tr>\n",
       "      <th>151</th>\n",
       "      <td>152</td>\n",
       "      <td>Rwanda</td>\n",
       "      <td>3.334</td>\n",
       "      <td>0.359</td>\n",
       "      <td>0.711</td>\n",
       "      <td>0.614</td>\n",
       "      <td>0.555</td>\n",
       "      <td>0.217</td>\n",
       "      <td>0.411</td>\n",
       "      <td>Least Happy Score</td>\n",
       "    </tr>\n",
       "    <tr>\n",
       "      <th>152</th>\n",
       "      <td>153</td>\n",
       "      <td>Tanzania</td>\n",
       "      <td>3.231</td>\n",
       "      <td>0.476</td>\n",
       "      <td>0.885</td>\n",
       "      <td>0.499</td>\n",
       "      <td>0.417</td>\n",
       "      <td>0.276</td>\n",
       "      <td>0.147</td>\n",
       "      <td>Least Happy Score</td>\n",
       "    </tr>\n",
       "    <tr>\n",
       "      <th>153</th>\n",
       "      <td>154</td>\n",
       "      <td>Afghanistan</td>\n",
       "      <td>3.203</td>\n",
       "      <td>0.350</td>\n",
       "      <td>0.517</td>\n",
       "      <td>0.361</td>\n",
       "      <td>0.000</td>\n",
       "      <td>0.158</td>\n",
       "      <td>0.025</td>\n",
       "      <td>Least Happy Score</td>\n",
       "    </tr>\n",
       "    <tr>\n",
       "      <th>154</th>\n",
       "      <td>155</td>\n",
       "      <td>Central African Republic</td>\n",
       "      <td>3.083</td>\n",
       "      <td>0.026</td>\n",
       "      <td>0.000</td>\n",
       "      <td>0.105</td>\n",
       "      <td>0.225</td>\n",
       "      <td>0.235</td>\n",
       "      <td>0.035</td>\n",
       "      <td>Least Happy Score</td>\n",
       "    </tr>\n",
       "    <tr>\n",
       "      <th>155</th>\n",
       "      <td>156</td>\n",
       "      <td>South Sudan</td>\n",
       "      <td>2.853</td>\n",
       "      <td>0.306</td>\n",
       "      <td>0.575</td>\n",
       "      <td>0.295</td>\n",
       "      <td>0.010</td>\n",
       "      <td>0.202</td>\n",
       "      <td>0.091</td>\n",
       "      <td>Least Happy Score</td>\n",
       "    </tr>\n",
       "  </tbody>\n",
       "</table>\n",
       "<p>156 rows × 10 columns</p>\n",
       "</div>"
      ],
      "text/plain": [
       "     Overall Rank         Country or Region  Score  GDP per capita  \\\n",
       "0               1                   Finland  7.769           1.340   \n",
       "1               2                   Denmark  7.600           1.383   \n",
       "2               3                    Norway  7.554           1.488   \n",
       "3               4                   Iceland  7.494           1.380   \n",
       "4               5               Netherlands  7.488           1.396   \n",
       "..            ...                       ...    ...             ...   \n",
       "151           152                    Rwanda  3.334           0.359   \n",
       "152           153                  Tanzania  3.231           0.476   \n",
       "153           154               Afghanistan  3.203           0.350   \n",
       "154           155  Central African Republic  3.083           0.026   \n",
       "155           156               South Sudan  2.853           0.306   \n",
       "\n",
       "     Social support  Healthy life expectancy  Freedom to make life choices  \\\n",
       "0             1.587                    0.986                         0.596   \n",
       "1             1.573                    0.996                         0.592   \n",
       "2             1.582                    1.028                         0.603   \n",
       "3             1.624                    1.026                         0.591   \n",
       "4             1.522                    0.999                         0.557   \n",
       "..              ...                      ...                           ...   \n",
       "151           0.711                    0.614                         0.555   \n",
       "152           0.885                    0.499                         0.417   \n",
       "153           0.517                    0.361                         0.000   \n",
       "154           0.000                    0.105                         0.225   \n",
       "155           0.575                    0.295                         0.010   \n",
       "\n",
       "     Generosity  Perceptions of corruption            Cluster  \n",
       "0         0.153                      0.393   High Happy Score  \n",
       "1         0.252                      0.410   High Happy Score  \n",
       "2         0.271                      0.341   High Happy Score  \n",
       "3         0.354                      0.118   High Happy Score  \n",
       "4         0.322                      0.298   High Happy Score  \n",
       "..          ...                        ...                ...  \n",
       "151       0.217                      0.411  Least Happy Score  \n",
       "152       0.276                      0.147  Least Happy Score  \n",
       "153       0.158                      0.025  Least Happy Score  \n",
       "154       0.235                      0.035  Least Happy Score  \n",
       "155       0.202                      0.091  Least Happy Score  \n",
       "\n",
       "[156 rows x 10 columns]"
      ]
     },
     "execution_count": 22,
     "metadata": {},
     "output_type": "execute_result"
    }
   ],
   "source": [
    "original_df"
   ]
  },
  {
   "cell_type": "code",
   "execution_count": 23,
   "metadata": {},
   "outputs": [],
   "source": [
    "original_df.to_csv('Happiness_Clusters.csv')"
   ]
  },
  {
   "cell_type": "code",
   "execution_count": null,
   "metadata": {},
   "outputs": [],
   "source": []
  }
 ],
 "metadata": {
  "kernelspec": {
   "display_name": "Python 3",
   "language": "python",
   "name": "python3"
  },
  "language_info": {
   "codemirror_mode": {
    "name": "ipython",
    "version": 3
   },
   "file_extension": ".py",
   "mimetype": "text/x-python",
   "name": "python",
   "nbconvert_exporter": "python",
   "pygments_lexer": "ipython3",
   "version": "3.7.4"
  }
 },
 "nbformat": 4,
 "nbformat_minor": 4
}
